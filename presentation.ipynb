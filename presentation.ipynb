{
 "cells": [
  {
   "cell_type": "markdown",
   "id": "5905396c",
   "metadata": {},
   "source": [
    "# **Knowledge Representation in RAG methods**\n",
    "\n",
    "Contributors:\n",
    "* Szymon Pająk\n",
    "* Tomasz Ogiołda"
   ]
  },
  {
   "cell_type": "markdown",
   "id": "69810bcb",
   "metadata": {},
   "source": [
    "## **RAG quickstart & Motivation**"
   ]
  },
  {
   "cell_type": "markdown",
   "id": "522e03c3",
   "metadata": {},
   "source": [
    "Some text"
   ]
  },
  {
   "cell_type": "code",
   "execution_count": null,
   "id": "1058a1af",
   "metadata": {},
   "outputs": [],
   "source": [
    "# some code"
   ]
  },
  {
   "cell_type": "markdown",
   "id": "5c03455e",
   "metadata": {},
   "source": [
    "## **Data preparation & Indexing**"
   ]
  },
  {
   "cell_type": "markdown",
   "id": "6dc0bb8b",
   "metadata": {},
   "source": [
    "Some text"
   ]
  },
  {
   "cell_type": "code",
   "execution_count": null,
   "id": "500592b1",
   "metadata": {},
   "outputs": [],
   "source": [
    "# Some code"
   ]
  },
  {
   "cell_type": "markdown",
   "id": "4c9f89aa",
   "metadata": {},
   "source": [
    "## **Retrieval**"
   ]
  },
  {
   "cell_type": "markdown",
   "id": "d2b91b56",
   "metadata": {},
   "source": [
    "Some text"
   ]
  },
  {
   "cell_type": "code",
   "execution_count": null,
   "id": "26b8b179",
   "metadata": {},
   "outputs": [],
   "source": [
    "# Some code"
   ]
  },
  {
   "cell_type": "markdown",
   "id": "877dff3e",
   "metadata": {},
   "source": [
    "## **Generation**"
   ]
  },
  {
   "cell_type": "markdown",
   "id": "f6c1d050",
   "metadata": {},
   "source": [
    "Some text"
   ]
  },
  {
   "cell_type": "code",
   "execution_count": null,
   "id": "4b0fadf3",
   "metadata": {},
   "outputs": [],
   "source": [
    "# Some code"
   ]
  },
  {
   "cell_type": "markdown",
   "id": "e471a74b",
   "metadata": {},
   "source": [
    "## **Challenges & Future Development**"
   ]
  },
  {
   "cell_type": "markdown",
   "id": "42831c2c",
   "metadata": {},
   "source": [
    "Some text"
   ]
  },
  {
   "cell_type": "code",
   "execution_count": null,
   "id": "72e1aff2",
   "metadata": {},
   "outputs": [],
   "source": [
    "# Some code"
   ]
  }
 ],
 "metadata": {
  "kernelspec": {
   "display_name": "KrakenV2",
   "language": "python",
   "name": "python3"
  },
  "language_info": {
   "name": "python",
   "version": "3.10.13"
  }
 },
 "nbformat": 4,
 "nbformat_minor": 5
}
