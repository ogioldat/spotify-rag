{
  "cells": [
    {
      "cell_type": "markdown",
      "id": "5905396c",
      "metadata": {
        "id": "5905396c"
      },
      "source": [
        "# **Knowledge Representation in RAG methods**\n",
        "\n",
        "Contributors:\n",
        "* Szymon Pająk\n",
        "* Tomasz Ogiołda"
      ]
    },
    {
      "cell_type": "markdown",
      "source": [
        "## Temporary notes\n",
        "\n",
        "### Plan\n",
        "\n",
        "1. Introduction\n",
        "2. Background\n",
        "  - What is RAG? Why is it used?\n",
        "  - What kinds of knowledge representations RAG can use?\n",
        "    - Vectorized embeddings\n",
        "    - Knowledge graph\n",
        "    - Combination of both\n",
        "    - Comparison https://neo4j.com/blog/genai/graphrag-manifesto/\n",
        "\n",
        "  - Explain the dataflow for both knowledge representations (the whole process, from raw data, to querying the knowledge database)\n",
        "3. Demo\n",
        "\n",
        "Tools to be used:\n",
        "\n",
        "- langchain?\n",
        "- neo4j\n",
        "\n",
        "4. Resources\n",
        "\n",
        "- https://neo4j.com/blog/genai/graphrag-manifesto/\n",
        "- https://neo4j.com/blog/developer/langchain4j-graphrag-vector-stores-retrievers/\n",
        "- https://neo4j.com/blog/genai/what-is-retrieval-augmented-generation-rag/\n",
        "- https://neo4j.com/blog/developer/knowledge-graph-rag-application/\n",
        "- https://neo4j.com/blog/news/graphrag-ecosystem-tools/"
      ],
      "metadata": {
        "id": "C7wEZL2FNIKD"
      },
      "id": "C7wEZL2FNIKD"
    },
    {
      "cell_type": "markdown",
      "id": "69810bcb",
      "metadata": {
        "id": "69810bcb"
      },
      "source": [
        "## **RAG quickstart & Motivation**"
      ]
    },
    {
      "cell_type": "markdown",
      "id": "522e03c3",
      "metadata": {
        "id": "522e03c3"
      },
      "source": [
        "Some text"
      ]
    },
    {
      "cell_type": "code",
      "execution_count": null,
      "id": "1058a1af",
      "metadata": {
        "id": "1058a1af"
      },
      "outputs": [],
      "source": [
        "# some code"
      ]
    },
    {
      "cell_type": "markdown",
      "id": "5c03455e",
      "metadata": {
        "id": "5c03455e"
      },
      "source": [
        "## **Data preparation & Indexing**"
      ]
    },
    {
      "cell_type": "markdown",
      "id": "6dc0bb8b",
      "metadata": {
        "id": "6dc0bb8b"
      },
      "source": [
        "Some text"
      ]
    },
    {
      "cell_type": "code",
      "execution_count": null,
      "id": "500592b1",
      "metadata": {
        "id": "500592b1"
      },
      "outputs": [],
      "source": [
        "# Some code"
      ]
    },
    {
      "cell_type": "markdown",
      "id": "4c9f89aa",
      "metadata": {
        "id": "4c9f89aa"
      },
      "source": [
        "## **Retrieval**"
      ]
    },
    {
      "cell_type": "markdown",
      "id": "d2b91b56",
      "metadata": {
        "id": "d2b91b56"
      },
      "source": [
        "Some text"
      ]
    },
    {
      "cell_type": "code",
      "execution_count": null,
      "id": "26b8b179",
      "metadata": {
        "id": "26b8b179"
      },
      "outputs": [],
      "source": [
        "# Some code"
      ]
    },
    {
      "cell_type": "markdown",
      "id": "877dff3e",
      "metadata": {
        "id": "877dff3e"
      },
      "source": [
        "## **Generation**"
      ]
    },
    {
      "cell_type": "markdown",
      "id": "f6c1d050",
      "metadata": {
        "id": "f6c1d050"
      },
      "source": [
        "Some text"
      ]
    },
    {
      "cell_type": "code",
      "execution_count": null,
      "id": "4b0fadf3",
      "metadata": {
        "id": "4b0fadf3"
      },
      "outputs": [],
      "source": [
        "# Some code"
      ]
    },
    {
      "cell_type": "markdown",
      "id": "e471a74b",
      "metadata": {
        "id": "e471a74b"
      },
      "source": [
        "## **Challenges & Future Development**"
      ]
    },
    {
      "cell_type": "markdown",
      "id": "42831c2c",
      "metadata": {
        "id": "42831c2c"
      },
      "source": [
        "Some text"
      ]
    },
    {
      "cell_type": "code",
      "execution_count": null,
      "id": "72e1aff2",
      "metadata": {
        "id": "72e1aff2"
      },
      "outputs": [],
      "source": [
        "# Some code"
      ]
    }
  ],
  "metadata": {
    "kernelspec": {
      "display_name": "KrakenV2",
      "language": "python",
      "name": "python3"
    },
    "language_info": {
      "name": "python",
      "version": "3.10.13"
    },
    "colab": {
      "provenance": []
    }
  },
  "nbformat": 4,
  "nbformat_minor": 5
}