{
  "cells": [
    {
      "cell_type": "markdown",
      "id": "5905396c",
      "metadata": {
        "id": "5905396c"
      },
      "source": [
        "# **Knowledge Representation in RAG methods**\n",
        "\n",
        "Contributors:\n",
        "* Szymon Pająk\n",
        "* Tomasz Ogiołda"
      ]
    },
    {
      "cell_type": "markdown",
      "source": [
        "## Temporary notes\n",
        "\n",
        "### Plan\n",
        "\n",
        "1. Introduction\n",
        "2. Background\n",
        "  - What is RAG? Why is it used?\n",
        "  - What kinds of knowledge representations RAG can use?\n",
        "    - Vectorized embeddings\n",
        "    - Knowledge graph\n",
        "    - Combination of both\n",
        "    - Comparison https://neo4j.com/blog/genai/graphrag-manifesto/\n",
        "\n",
        "  - Explain the dataflow for both knowledge representations (the whole process, from raw data, to querying the knowledge database)\n",
        "3. Demo\n",
        "\n",
        "Tools to be used:\n",
        "\n",
        "- langchain?\n",
        "- neo4j\n",
        "\n",
        "4. Resources\n",
        "\n",
        "- https://neo4j.com/blog/genai/graphrag-manifesto/\n",
        "- https://neo4j.com/blog/developer/langchain4j-graphrag-vector-stores-retrievers/\n",
        "- https://neo4j.com/blog/genai/what-is-retrieval-augmented-generation-rag/\n",
        "- https://neo4j.com/blog/developer/knowledge-graph-rag-application/\n",
        "- https://neo4j.com/blog/news/graphrag-ecosystem-tools/"
      ],
      "metadata": {
        "id": "C7wEZL2FNIKD"
      },
      "id": "C7wEZL2FNIKD"
    },
    {
      "cell_type": "markdown",
      "id": "69810bcb",
      "metadata": {
        "id": "69810bcb"
      },
      "source": [
        "## **RAG quickstart & Motivation**"
      ]
    },
    {
      "cell_type": "markdown",
      "id": "522e03c3",
      "metadata": {
        "id": "522e03c3"
      },
      "source": [
        "Some text"
      ]
    },
    {
      "cell_type": "code",
      "source": [
        "!pip install neo4j"
      ],
      "metadata": {
        "id": "_aDL1k1UV39V",
        "outputId": "abf9b9b0-c312-4f65-d8f3-d97ef6e01722",
        "colab": {
          "base_uri": "https://localhost:8080/"
        }
      },
      "id": "_aDL1k1UV39V",
      "execution_count": 3,
      "outputs": [
        {
          "output_type": "stream",
          "name": "stdout",
          "text": [
            "Collecting neo4j\n",
            "  Downloading neo4j-5.28.1-py3-none-any.whl.metadata (5.9 kB)\n",
            "Requirement already satisfied: pytz in /usr/local/lib/python3.11/dist-packages (from neo4j) (2025.2)\n",
            "Downloading neo4j-5.28.1-py3-none-any.whl (312 kB)\n",
            "\u001b[?25l   \u001b[90m━━━━━━━━━━━━━━━━━━━━━━━━━━━━━━━━━━━━━━━━\u001b[0m \u001b[32m0.0/312.3 kB\u001b[0m \u001b[31m?\u001b[0m eta \u001b[36m-:--:--\u001b[0m\r\u001b[2K   \u001b[90m━━━━━━━━━━━━━━━━━━━━━━━━━━━━━━━━━━━━━━━━\u001b[0m \u001b[32m312.3/312.3 kB\u001b[0m \u001b[31m9.6 MB/s\u001b[0m eta \u001b[36m0:00:00\u001b[0m\n",
            "\u001b[?25hInstalling collected packages: neo4j\n",
            "Successfully installed neo4j-5.28.1\n"
          ]
        }
      ]
    },
    {
      "cell_type": "code",
      "source": [
        "from google.colab import userdata\n",
        "\n",
        "NEO4J_URI = userdata.get('NEO4J_URI')\n",
        "NEO4J_PASS = userdata.get('NEO4J_PASS')\n",
        "NEO4J_DB_USER = userdata.get('NEO4J_DB_USER')"
      ],
      "metadata": {
        "id": "-xMdMSscVoSt"
      },
      "id": "-xMdMSscVoSt",
      "execution_count": 1,
      "outputs": []
    },
    {
      "cell_type": "code",
      "execution_count": 4,
      "id": "1058a1af",
      "metadata": {
        "id": "1058a1af"
      },
      "outputs": [],
      "source": [
        "from neo4j import GraphDatabase\n",
        "\n",
        "URI = \"neo4j+s://3a2f9088.databases.neo4j.io\"\n",
        "AUTH = (\"<Username>\", \"<Password>\")\n",
        "\n",
        "with GraphDatabase.driver(NEO4J_URI, auth=(NEO4J_DB_USER, NEO4J_PASS)) as driver:\n",
        "    driver.verify_connectivity()"
      ]
    },
    {
      "cell_type": "markdown",
      "id": "5c03455e",
      "metadata": {
        "id": "5c03455e"
      },
      "source": [
        "## **Data preparation & Indexing**"
      ]
    },
    {
      "cell_type": "markdown",
      "id": "6dc0bb8b",
      "metadata": {
        "id": "6dc0bb8b"
      },
      "source": [
        "Some text"
      ]
    },
    {
      "cell_type": "code",
      "execution_count": null,
      "id": "500592b1",
      "metadata": {
        "id": "500592b1"
      },
      "outputs": [],
      "source": [
        "# Some code"
      ]
    },
    {
      "cell_type": "markdown",
      "id": "4c9f89aa",
      "metadata": {
        "id": "4c9f89aa"
      },
      "source": [
        "## **Retrieval**"
      ]
    },
    {
      "cell_type": "markdown",
      "id": "d2b91b56",
      "metadata": {
        "id": "d2b91b56"
      },
      "source": [
        "Some text"
      ]
    },
    {
      "cell_type": "code",
      "execution_count": null,
      "id": "26b8b179",
      "metadata": {
        "id": "26b8b179"
      },
      "outputs": [],
      "source": [
        "# Some code"
      ]
    },
    {
      "cell_type": "markdown",
      "id": "877dff3e",
      "metadata": {
        "id": "877dff3e"
      },
      "source": [
        "## **Generation**"
      ]
    },
    {
      "cell_type": "markdown",
      "id": "f6c1d050",
      "metadata": {
        "id": "f6c1d050"
      },
      "source": [
        "Some text"
      ]
    },
    {
      "cell_type": "code",
      "execution_count": null,
      "id": "4b0fadf3",
      "metadata": {
        "id": "4b0fadf3"
      },
      "outputs": [],
      "source": [
        "# Some code"
      ]
    },
    {
      "cell_type": "markdown",
      "id": "e471a74b",
      "metadata": {
        "id": "e471a74b"
      },
      "source": [
        "## **Challenges & Future Development**"
      ]
    },
    {
      "cell_type": "markdown",
      "id": "42831c2c",
      "metadata": {
        "id": "42831c2c"
      },
      "source": [
        "Some text"
      ]
    },
    {
      "cell_type": "code",
      "execution_count": null,
      "id": "72e1aff2",
      "metadata": {
        "id": "72e1aff2"
      },
      "outputs": [],
      "source": [
        "# Some code"
      ]
    }
  ],
  "metadata": {
    "kernelspec": {
      "display_name": "KrakenV2",
      "language": "python",
      "name": "python3"
    },
    "language_info": {
      "name": "python",
      "version": "3.10.13"
    },
    "colab": {
      "provenance": []
    }
  },
  "nbformat": 4,
  "nbformat_minor": 5
}