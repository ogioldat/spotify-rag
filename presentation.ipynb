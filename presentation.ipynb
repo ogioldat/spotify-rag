{
  "cells": [
    {
      "cell_type": "markdown",
      "id": "5905396c",
      "metadata": {
        "id": "5905396c"
      },
      "source": [
        "# **Knowledge Representation in RAG methods**\n",
        "\n",
        "Contributors:\n",
        "* Szymon Pająk\n",
        "* Tomasz Ogiołda"
      ]
    },
    {
      "cell_type": "markdown",
      "source": [
        "## Temporary notes\n",
        "\n",
        "### Plan\n",
        "\n",
        "1. Introduction\n",
        "2. Background\n",
        "  - What is RAG? Why is it used?\n",
        "  - What kinds of knowledge representations RAG can use?\n",
        "    - Vectorized embeddings\n",
        "    - Knowledge graph\n",
        "    - Combination of both\n",
        "    - Comparison https://neo4j.com/blog/genai/graphrag-manifesto/\n",
        "\n",
        "  - Explain the dataflow for both knowledge representations (the whole process, from raw data, to querying the knowledge database)\n",
        "3. Demo\n",
        "\n",
        "Tools to be used:\n",
        "\n",
        "- langchain?\n",
        "- neo4j\n",
        "\n",
        "4. Resources\n",
        "\n",
        "- https://neo4j.com/blog/genai/graphrag-manifesto/\n",
        "- https://neo4j.com/blog/developer/langchain4j-graphrag-vector-stores-retrievers/\n",
        "- https://neo4j.com/blog/genai/what-is-retrieval-augmented-generation-rag/\n",
        "- https://neo4j.com/blog/developer/knowledge-graph-rag-application/\n",
        "- https://neo4j.com/blog/news/graphrag-ecosystem-tools/"
      ],
      "metadata": {
        "id": "C7wEZL2FNIKD"
      },
      "id": "C7wEZL2FNIKD"
    },
    {
      "cell_type": "markdown",
      "id": "69810bcb",
      "metadata": {
        "id": "69810bcb"
      },
      "source": [
        "## **RAG quickstart & Motivation**"
      ]
    },
    {
      "cell_type": "markdown",
      "id": "522e03c3",
      "metadata": {
        "id": "522e03c3"
      },
      "source": [
        "Some text"
      ]
    },
    {
      "cell_type": "code",
      "source": [
        "!pip install neo4j google-generativeai"
      ],
      "metadata": {
        "colab": {
          "base_uri": "https://localhost:8080/"
        },
        "collapsed": true,
        "id": "_aDL1k1UV39V",
        "outputId": "694246f1-f60e-4e29-9a1b-5951a8ed32e4"
      },
      "id": "_aDL1k1UV39V",
      "execution_count": 21,
      "outputs": [
        {
          "output_type": "stream",
          "name": "stdout",
          "text": [
            "Requirement already satisfied: neo4j in /usr/local/lib/python3.11/dist-packages (5.28.1)\n",
            "Requirement already satisfied: google-generativeai in /usr/local/lib/python3.11/dist-packages (0.8.5)\n",
            "Requirement already satisfied: kaggle in /usr/local/lib/python3.11/dist-packages (1.7.4.5)\n",
            "Requirement already satisfied: pytz in /usr/local/lib/python3.11/dist-packages (from neo4j) (2025.2)\n",
            "Requirement already satisfied: google-ai-generativelanguage==0.6.15 in /usr/local/lib/python3.11/dist-packages (from google-generativeai) (0.6.15)\n",
            "Requirement already satisfied: google-api-core in /usr/local/lib/python3.11/dist-packages (from google-generativeai) (2.24.2)\n",
            "Requirement already satisfied: google-api-python-client in /usr/local/lib/python3.11/dist-packages (from google-generativeai) (2.169.0)\n",
            "Requirement already satisfied: google-auth>=2.15.0 in /usr/local/lib/python3.11/dist-packages (from google-generativeai) (2.38.0)\n",
            "Requirement already satisfied: protobuf in /usr/local/lib/python3.11/dist-packages (from google-generativeai) (5.29.4)\n",
            "Requirement already satisfied: pydantic in /usr/local/lib/python3.11/dist-packages (from google-generativeai) (2.11.4)\n",
            "Requirement already satisfied: tqdm in /usr/local/lib/python3.11/dist-packages (from google-generativeai) (4.67.1)\n",
            "Requirement already satisfied: typing-extensions in /usr/local/lib/python3.11/dist-packages (from google-generativeai) (4.13.2)\n",
            "Requirement already satisfied: proto-plus<2.0.0dev,>=1.22.3 in /usr/local/lib/python3.11/dist-packages (from google-ai-generativelanguage==0.6.15->google-generativeai) (1.26.1)\n",
            "Requirement already satisfied: bleach in /usr/local/lib/python3.11/dist-packages (from kaggle) (6.2.0)\n",
            "Requirement already satisfied: certifi>=14.05.14 in /usr/local/lib/python3.11/dist-packages (from kaggle) (2025.4.26)\n",
            "Requirement already satisfied: charset-normalizer in /usr/local/lib/python3.11/dist-packages (from kaggle) (3.4.2)\n",
            "Requirement already satisfied: idna in /usr/local/lib/python3.11/dist-packages (from kaggle) (3.10)\n",
            "Requirement already satisfied: python-dateutil>=2.5.3 in /usr/local/lib/python3.11/dist-packages (from kaggle) (2.9.0.post0)\n",
            "Requirement already satisfied: python-slugify in /usr/local/lib/python3.11/dist-packages (from kaggle) (8.0.4)\n",
            "Requirement already satisfied: requests in /usr/local/lib/python3.11/dist-packages (from kaggle) (2.32.3)\n",
            "Requirement already satisfied: setuptools>=21.0.0 in /usr/local/lib/python3.11/dist-packages (from kaggle) (75.2.0)\n",
            "Requirement already satisfied: six>=1.10 in /usr/local/lib/python3.11/dist-packages (from kaggle) (1.17.0)\n",
            "Requirement already satisfied: text-unidecode in /usr/local/lib/python3.11/dist-packages (from kaggle) (1.3)\n",
            "Requirement already satisfied: urllib3>=1.15.1 in /usr/local/lib/python3.11/dist-packages (from kaggle) (2.4.0)\n",
            "Requirement already satisfied: webencodings in /usr/local/lib/python3.11/dist-packages (from kaggle) (0.5.1)\n",
            "Requirement already satisfied: googleapis-common-protos<2.0.0,>=1.56.2 in /usr/local/lib/python3.11/dist-packages (from google-api-core->google-generativeai) (1.70.0)\n",
            "Requirement already satisfied: cachetools<6.0,>=2.0.0 in /usr/local/lib/python3.11/dist-packages (from google-auth>=2.15.0->google-generativeai) (5.5.2)\n",
            "Requirement already satisfied: pyasn1-modules>=0.2.1 in /usr/local/lib/python3.11/dist-packages (from google-auth>=2.15.0->google-generativeai) (0.4.2)\n",
            "Requirement already satisfied: rsa<5,>=3.1.4 in /usr/local/lib/python3.11/dist-packages (from google-auth>=2.15.0->google-generativeai) (4.9.1)\n",
            "Requirement already satisfied: httplib2<1.0.0,>=0.19.0 in /usr/local/lib/python3.11/dist-packages (from google-api-python-client->google-generativeai) (0.22.0)\n",
            "Requirement already satisfied: google-auth-httplib2<1.0.0,>=0.2.0 in /usr/local/lib/python3.11/dist-packages (from google-api-python-client->google-generativeai) (0.2.0)\n",
            "Requirement already satisfied: uritemplate<5,>=3.0.1 in /usr/local/lib/python3.11/dist-packages (from google-api-python-client->google-generativeai) (4.1.1)\n",
            "Requirement already satisfied: annotated-types>=0.6.0 in /usr/local/lib/python3.11/dist-packages (from pydantic->google-generativeai) (0.7.0)\n",
            "Requirement already satisfied: pydantic-core==2.33.2 in /usr/local/lib/python3.11/dist-packages (from pydantic->google-generativeai) (2.33.2)\n",
            "Requirement already satisfied: typing-inspection>=0.4.0 in /usr/local/lib/python3.11/dist-packages (from pydantic->google-generativeai) (0.4.0)\n",
            "Requirement already satisfied: grpcio<2.0dev,>=1.33.2 in /usr/local/lib/python3.11/dist-packages (from google-api-core[grpc]!=2.0.*,!=2.1.*,!=2.10.*,!=2.2.*,!=2.3.*,!=2.4.*,!=2.5.*,!=2.6.*,!=2.7.*,!=2.8.*,!=2.9.*,<3.0.0dev,>=1.34.1->google-ai-generativelanguage==0.6.15->google-generativeai) (1.71.0)\n",
            "Requirement already satisfied: grpcio-status<2.0.dev0,>=1.33.2 in /usr/local/lib/python3.11/dist-packages (from google-api-core[grpc]!=2.0.*,!=2.1.*,!=2.10.*,!=2.2.*,!=2.3.*,!=2.4.*,!=2.5.*,!=2.6.*,!=2.7.*,!=2.8.*,!=2.9.*,<3.0.0dev,>=1.34.1->google-ai-generativelanguage==0.6.15->google-generativeai) (1.71.0)\n",
            "Requirement already satisfied: pyparsing!=3.0.0,!=3.0.1,!=3.0.2,!=3.0.3,<4,>=2.4.2 in /usr/local/lib/python3.11/dist-packages (from httplib2<1.0.0,>=0.19.0->google-api-python-client->google-generativeai) (3.2.3)\n",
            "Requirement already satisfied: pyasn1<0.7.0,>=0.6.1 in /usr/local/lib/python3.11/dist-packages (from pyasn1-modules>=0.2.1->google-auth>=2.15.0->google-generativeai) (0.6.1)\n"
          ]
        }
      ]
    },
    {
      "cell_type": "code",
      "source": [
        "from google.colab import userdata\n",
        "\n",
        "NEO4J_URI = userdata.get('NEO4J_URI')\n",
        "NEO4J_PASS = userdata.get('NEO4J_PASS')\n",
        "NEO4J_DB_USER = userdata.get('NEO4J_DB_USER')\n",
        "GOOGLE_API_KEY = userdata.get('GOOGLE_API_KEY')"
      ],
      "metadata": {
        "id": "-xMdMSscVoSt"
      },
      "id": "-xMdMSscVoSt",
      "execution_count": 5,
      "outputs": []
    },
    {
      "cell_type": "code",
      "execution_count": 110,
      "id": "1058a1af",
      "metadata": {
        "id": "1058a1af"
      },
      "outputs": [],
      "source": [
        "from neo4j import GraphDatabase\n",
        "import google.generativeai as genai\n",
        "\n",
        "genai.configure(api_key=GOOGLE_API_KEY)\n",
        "\n",
        "URI = \"neo4j+s://3a2f9088.databases.neo4j.io\"\n",
        "\n",
        "embedding_model = genai.GenerativeModel('models/text-embedding-004')\n",
        "generative_llm = genai.GenerativeModel('gemini-1.5-flash-latest')\n",
        "\n",
        "def get_db():\n",
        "  with GraphDatabase.driver(NEO4J_URI, auth=(NEO4J_DB_USER, NEO4J_PASS)) as driver:\n",
        "      driver.verify_connectivity()\n",
        "      return driver"
      ]
    },
    {
      "cell_type": "markdown",
      "id": "5c03455e",
      "metadata": {
        "id": "5c03455e"
      },
      "source": [
        "## **Data preparation & Indexing**"
      ]
    },
    {
      "cell_type": "code",
      "execution_count": 24,
      "id": "500592b1",
      "metadata": {
        "id": "500592b1",
        "colab": {
          "base_uri": "https://localhost:8080/"
        },
        "outputId": "07b87f63-0258-44f1-89a9-526d418ed68f"
      },
      "outputs": [
        {
          "output_type": "stream",
          "name": "stdout",
          "text": [
            "Downloading from https://www.kaggle.com/api/v1/datasets/download/devdope/900k-spotify?dataset_version_number=3...\n"
          ]
        },
        {
          "output_type": "stream",
          "name": "stderr",
          "text": [
            "100%|██████████| 1.00G/1.00G [00:25<00:00, 41.8MB/s]"
          ]
        },
        {
          "output_type": "stream",
          "name": "stdout",
          "text": [
            "Extracting files...\n"
          ]
        },
        {
          "output_type": "stream",
          "name": "stderr",
          "text": [
            "\n"
          ]
        }
      ],
      "source": [
        "import kagglehub\n",
        "\n",
        "path = kagglehub.dataset_download(\"devdope/900k-spotify\")"
      ]
    },
    {
      "cell_type": "code",
      "source": [
        "import numpy as np\n",
        "import pandas as pd\n",
        "\n",
        "songs_csv = path + '/spotify_dataset.csv'\n",
        "\n",
        "full_df = pd.read_csv(songs_csv)"
      ],
      "metadata": {
        "id": "cO9t1V8ElSmp"
      },
      "id": "cO9t1V8ElSmp",
      "execution_count": 44,
      "outputs": []
    },
    {
      "cell_type": "code",
      "source": [
        "np.random.seed(9)\n",
        "\n",
        "df = full_df.sample(20000)\n",
        "df = df[['Artist(s)','song', 'text', 'emotion', 'Length', 'Album', 'Genre', 'Energy', 'Popularity', 'Danceability', 'Positiveness']]\n",
        "df[['Energy', 'Popularity', 'Danceability', 'Positiveness']] = df[['Energy', 'Popularity', 'Danceability', 'Positiveness']].astype(int)/100"
      ],
      "metadata": {
        "id": "sqv4QwNEml4_"
      },
      "id": "sqv4QwNEml4_",
      "execution_count": 98,
      "outputs": []
    },
    {
      "cell_type": "code",
      "source": [
        "df.head()"
      ],
      "metadata": {
        "id": "rbJjOkkOsXvO",
        "outputId": "18aeb25a-70ba-44a1-e091-8ffee0bc21ae",
        "colab": {
          "base_uri": "https://localhost:8080/",
          "height": 379
        }
      },
      "id": "rbJjOkkOsXvO",
      "execution_count": 102,
      "outputs": [
        {
          "output_type": "execute_result",
          "data": {
            "text/plain": [
              "                                                Artist(s)  \\\n",
              "465551                           The Cast of Mary Poppins   \n",
              "5902                                                  98º   \n",
              "84105                                       CHASETHEMONEY   \n",
              "31291   Arthur Sullivan,Richard Lewis/Ian Wallace/Pro ...   \n",
              "48636                                     Beyond Creation   \n",
              "\n",
              "                                   song  \\\n",
              "465551                     Mary Poppins   \n",
              "5902                   If Only She Knew   \n",
              "84105                          Been Dat   \n",
              "31291   And Have I Journeyd for a Month   \n",
              "48636                  Ethereal Kingdom   \n",
              "\n",
              "                                                     text  emotion Length  \\\n",
              "465551  [Verse 1] Rose gold, rose quartz Stone cold, w...    anger  02:02   \n",
              "5902    If only she knew    What was going right,    I...      joy  04:27   \n",
              "84105   [Intro: Lil Yachty] Chase the money 'til a nig...      joy  01:42   \n",
              "31291   [NANKI-POO] And have I journeyed for a month, ...      joy  00:50   \n",
              "48636   Alone among the living Man is haunted by the k...  sadness  05:19   \n",
              "\n",
              "        Tempo                             Album             Genre  \\\n",
              "465551     80  Mary Poppins Original Soundtrack           hip hop   \n",
              "5902       96             98 Degrees And Rising           hip hop   \n",
              "84105     115                Slim.E and Friends           hip hop   \n",
              "31291      86    Gilbert & Sullivan: The Mikado           hip hop   \n",
              "48636      96                         Algorythm  rock,garage rock   \n",
              "\n",
              "             Release Date Explicit  Energy  Popularity  Danceability  \\\n",
              "465551  6th February 2018       No    0.61        0.35          0.53   \n",
              "5902     1st January 1998       No    0.46        0.29          0.76   \n",
              "84105   31st October 2020      Yes    0.42        0.22          0.86   \n",
              "31291      13th June 2011       No    0.04        0.00          0.45   \n",
              "48636   12th October 2018       No    0.96        0.20          0.37   \n",
              "\n",
              "        Positiveness  Liveness  \n",
              "465551          0.92      0.23  \n",
              "5902            0.59      0.11  \n",
              "84105           0.51      0.15  \n",
              "31291           0.31      0.56  \n",
              "48636           0.09      0.35  "
            ],
            "text/html": [
              "\n",
              "  <div id=\"df-83e1f35b-551f-48a0-8554-c5a800b3bbcc\" class=\"colab-df-container\">\n",
              "    <div>\n",
              "<style scoped>\n",
              "    .dataframe tbody tr th:only-of-type {\n",
              "        vertical-align: middle;\n",
              "    }\n",
              "\n",
              "    .dataframe tbody tr th {\n",
              "        vertical-align: top;\n",
              "    }\n",
              "\n",
              "    .dataframe thead th {\n",
              "        text-align: right;\n",
              "    }\n",
              "</style>\n",
              "<table border=\"1\" class=\"dataframe\">\n",
              "  <thead>\n",
              "    <tr style=\"text-align: right;\">\n",
              "      <th></th>\n",
              "      <th>Artist(s)</th>\n",
              "      <th>song</th>\n",
              "      <th>text</th>\n",
              "      <th>emotion</th>\n",
              "      <th>Length</th>\n",
              "      <th>Tempo</th>\n",
              "      <th>Album</th>\n",
              "      <th>Genre</th>\n",
              "      <th>Release Date</th>\n",
              "      <th>Explicit</th>\n",
              "      <th>Energy</th>\n",
              "      <th>Popularity</th>\n",
              "      <th>Danceability</th>\n",
              "      <th>Positiveness</th>\n",
              "      <th>Liveness</th>\n",
              "    </tr>\n",
              "  </thead>\n",
              "  <tbody>\n",
              "    <tr>\n",
              "      <th>465551</th>\n",
              "      <td>The Cast of Mary Poppins</td>\n",
              "      <td>Mary Poppins</td>\n",
              "      <td>[Verse 1] Rose gold, rose quartz Stone cold, w...</td>\n",
              "      <td>anger</td>\n",
              "      <td>02:02</td>\n",
              "      <td>80</td>\n",
              "      <td>Mary Poppins Original Soundtrack</td>\n",
              "      <td>hip hop</td>\n",
              "      <td>6th February 2018</td>\n",
              "      <td>No</td>\n",
              "      <td>0.61</td>\n",
              "      <td>0.35</td>\n",
              "      <td>0.53</td>\n",
              "      <td>0.92</td>\n",
              "      <td>0.23</td>\n",
              "    </tr>\n",
              "    <tr>\n",
              "      <th>5902</th>\n",
              "      <td>98º</td>\n",
              "      <td>If Only She Knew</td>\n",
              "      <td>If only she knew    What was going right,    I...</td>\n",
              "      <td>joy</td>\n",
              "      <td>04:27</td>\n",
              "      <td>96</td>\n",
              "      <td>98 Degrees And Rising</td>\n",
              "      <td>hip hop</td>\n",
              "      <td>1st January 1998</td>\n",
              "      <td>No</td>\n",
              "      <td>0.46</td>\n",
              "      <td>0.29</td>\n",
              "      <td>0.76</td>\n",
              "      <td>0.59</td>\n",
              "      <td>0.11</td>\n",
              "    </tr>\n",
              "    <tr>\n",
              "      <th>84105</th>\n",
              "      <td>CHASETHEMONEY</td>\n",
              "      <td>Been Dat</td>\n",
              "      <td>[Intro: Lil Yachty] Chase the money 'til a nig...</td>\n",
              "      <td>joy</td>\n",
              "      <td>01:42</td>\n",
              "      <td>115</td>\n",
              "      <td>Slim.E and Friends</td>\n",
              "      <td>hip hop</td>\n",
              "      <td>31st October 2020</td>\n",
              "      <td>Yes</td>\n",
              "      <td>0.42</td>\n",
              "      <td>0.22</td>\n",
              "      <td>0.86</td>\n",
              "      <td>0.51</td>\n",
              "      <td>0.15</td>\n",
              "    </tr>\n",
              "    <tr>\n",
              "      <th>31291</th>\n",
              "      <td>Arthur Sullivan,Richard Lewis/Ian Wallace/Pro ...</td>\n",
              "      <td>And Have I Journeyd for a Month</td>\n",
              "      <td>[NANKI-POO] And have I journeyed for a month, ...</td>\n",
              "      <td>joy</td>\n",
              "      <td>00:50</td>\n",
              "      <td>86</td>\n",
              "      <td>Gilbert &amp; Sullivan: The Mikado</td>\n",
              "      <td>hip hop</td>\n",
              "      <td>13th June 2011</td>\n",
              "      <td>No</td>\n",
              "      <td>0.04</td>\n",
              "      <td>0.00</td>\n",
              "      <td>0.45</td>\n",
              "      <td>0.31</td>\n",
              "      <td>0.56</td>\n",
              "    </tr>\n",
              "    <tr>\n",
              "      <th>48636</th>\n",
              "      <td>Beyond Creation</td>\n",
              "      <td>Ethereal Kingdom</td>\n",
              "      <td>Alone among the living Man is haunted by the k...</td>\n",
              "      <td>sadness</td>\n",
              "      <td>05:19</td>\n",
              "      <td>96</td>\n",
              "      <td>Algorythm</td>\n",
              "      <td>rock,garage rock</td>\n",
              "      <td>12th October 2018</td>\n",
              "      <td>No</td>\n",
              "      <td>0.96</td>\n",
              "      <td>0.20</td>\n",
              "      <td>0.37</td>\n",
              "      <td>0.09</td>\n",
              "      <td>0.35</td>\n",
              "    </tr>\n",
              "  </tbody>\n",
              "</table>\n",
              "</div>\n",
              "    <div class=\"colab-df-buttons\">\n",
              "\n",
              "  <div class=\"colab-df-container\">\n",
              "    <button class=\"colab-df-convert\" onclick=\"convertToInteractive('df-83e1f35b-551f-48a0-8554-c5a800b3bbcc')\"\n",
              "            title=\"Convert this dataframe to an interactive table.\"\n",
              "            style=\"display:none;\">\n",
              "\n",
              "  <svg xmlns=\"http://www.w3.org/2000/svg\" height=\"24px\" viewBox=\"0 -960 960 960\">\n",
              "    <path d=\"M120-120v-720h720v720H120Zm60-500h600v-160H180v160Zm220 220h160v-160H400v160Zm0 220h160v-160H400v160ZM180-400h160v-160H180v160Zm440 0h160v-160H620v160ZM180-180h160v-160H180v160Zm440 0h160v-160H620v160Z\"/>\n",
              "  </svg>\n",
              "    </button>\n",
              "\n",
              "  <style>\n",
              "    .colab-df-container {\n",
              "      display:flex;\n",
              "      gap: 12px;\n",
              "    }\n",
              "\n",
              "    .colab-df-convert {\n",
              "      background-color: #E8F0FE;\n",
              "      border: none;\n",
              "      border-radius: 50%;\n",
              "      cursor: pointer;\n",
              "      display: none;\n",
              "      fill: #1967D2;\n",
              "      height: 32px;\n",
              "      padding: 0 0 0 0;\n",
              "      width: 32px;\n",
              "    }\n",
              "\n",
              "    .colab-df-convert:hover {\n",
              "      background-color: #E2EBFA;\n",
              "      box-shadow: 0px 1px 2px rgba(60, 64, 67, 0.3), 0px 1px 3px 1px rgba(60, 64, 67, 0.15);\n",
              "      fill: #174EA6;\n",
              "    }\n",
              "\n",
              "    .colab-df-buttons div {\n",
              "      margin-bottom: 4px;\n",
              "    }\n",
              "\n",
              "    [theme=dark] .colab-df-convert {\n",
              "      background-color: #3B4455;\n",
              "      fill: #D2E3FC;\n",
              "    }\n",
              "\n",
              "    [theme=dark] .colab-df-convert:hover {\n",
              "      background-color: #434B5C;\n",
              "      box-shadow: 0px 1px 3px 1px rgba(0, 0, 0, 0.15);\n",
              "      filter: drop-shadow(0px 1px 2px rgba(0, 0, 0, 0.3));\n",
              "      fill: #FFFFFF;\n",
              "    }\n",
              "  </style>\n",
              "\n",
              "    <script>\n",
              "      const buttonEl =\n",
              "        document.querySelector('#df-83e1f35b-551f-48a0-8554-c5a800b3bbcc button.colab-df-convert');\n",
              "      buttonEl.style.display =\n",
              "        google.colab.kernel.accessAllowed ? 'block' : 'none';\n",
              "\n",
              "      async function convertToInteractive(key) {\n",
              "        const element = document.querySelector('#df-83e1f35b-551f-48a0-8554-c5a800b3bbcc');\n",
              "        const dataTable =\n",
              "          await google.colab.kernel.invokeFunction('convertToInteractive',\n",
              "                                                    [key], {});\n",
              "        if (!dataTable) return;\n",
              "\n",
              "        const docLinkHtml = 'Like what you see? Visit the ' +\n",
              "          '<a target=\"_blank\" href=https://colab.research.google.com/notebooks/data_table.ipynb>data table notebook</a>'\n",
              "          + ' to learn more about interactive tables.';\n",
              "        element.innerHTML = '';\n",
              "        dataTable['output_type'] = 'display_data';\n",
              "        await google.colab.output.renderOutput(dataTable, element);\n",
              "        const docLink = document.createElement('div');\n",
              "        docLink.innerHTML = docLinkHtml;\n",
              "        element.appendChild(docLink);\n",
              "      }\n",
              "    </script>\n",
              "  </div>\n",
              "\n",
              "\n",
              "    <div id=\"df-4c6f3403-81ae-499d-95c4-7ea5d99587eb\">\n",
              "      <button class=\"colab-df-quickchart\" onclick=\"quickchart('df-4c6f3403-81ae-499d-95c4-7ea5d99587eb')\"\n",
              "                title=\"Suggest charts\"\n",
              "                style=\"display:none;\">\n",
              "\n",
              "<svg xmlns=\"http://www.w3.org/2000/svg\" height=\"24px\"viewBox=\"0 0 24 24\"\n",
              "     width=\"24px\">\n",
              "    <g>\n",
              "        <path d=\"M19 3H5c-1.1 0-2 .9-2 2v14c0 1.1.9 2 2 2h14c1.1 0 2-.9 2-2V5c0-1.1-.9-2-2-2zM9 17H7v-7h2v7zm4 0h-2V7h2v10zm4 0h-2v-4h2v4z\"/>\n",
              "    </g>\n",
              "</svg>\n",
              "      </button>\n",
              "\n",
              "<style>\n",
              "  .colab-df-quickchart {\n",
              "      --bg-color: #E8F0FE;\n",
              "      --fill-color: #1967D2;\n",
              "      --hover-bg-color: #E2EBFA;\n",
              "      --hover-fill-color: #174EA6;\n",
              "      --disabled-fill-color: #AAA;\n",
              "      --disabled-bg-color: #DDD;\n",
              "  }\n",
              "\n",
              "  [theme=dark] .colab-df-quickchart {\n",
              "      --bg-color: #3B4455;\n",
              "      --fill-color: #D2E3FC;\n",
              "      --hover-bg-color: #434B5C;\n",
              "      --hover-fill-color: #FFFFFF;\n",
              "      --disabled-bg-color: #3B4455;\n",
              "      --disabled-fill-color: #666;\n",
              "  }\n",
              "\n",
              "  .colab-df-quickchart {\n",
              "    background-color: var(--bg-color);\n",
              "    border: none;\n",
              "    border-radius: 50%;\n",
              "    cursor: pointer;\n",
              "    display: none;\n",
              "    fill: var(--fill-color);\n",
              "    height: 32px;\n",
              "    padding: 0;\n",
              "    width: 32px;\n",
              "  }\n",
              "\n",
              "  .colab-df-quickchart:hover {\n",
              "    background-color: var(--hover-bg-color);\n",
              "    box-shadow: 0 1px 2px rgba(60, 64, 67, 0.3), 0 1px 3px 1px rgba(60, 64, 67, 0.15);\n",
              "    fill: var(--button-hover-fill-color);\n",
              "  }\n",
              "\n",
              "  .colab-df-quickchart-complete:disabled,\n",
              "  .colab-df-quickchart-complete:disabled:hover {\n",
              "    background-color: var(--disabled-bg-color);\n",
              "    fill: var(--disabled-fill-color);\n",
              "    box-shadow: none;\n",
              "  }\n",
              "\n",
              "  .colab-df-spinner {\n",
              "    border: 2px solid var(--fill-color);\n",
              "    border-color: transparent;\n",
              "    border-bottom-color: var(--fill-color);\n",
              "    animation:\n",
              "      spin 1s steps(1) infinite;\n",
              "  }\n",
              "\n",
              "  @keyframes spin {\n",
              "    0% {\n",
              "      border-color: transparent;\n",
              "      border-bottom-color: var(--fill-color);\n",
              "      border-left-color: var(--fill-color);\n",
              "    }\n",
              "    20% {\n",
              "      border-color: transparent;\n",
              "      border-left-color: var(--fill-color);\n",
              "      border-top-color: var(--fill-color);\n",
              "    }\n",
              "    30% {\n",
              "      border-color: transparent;\n",
              "      border-left-color: var(--fill-color);\n",
              "      border-top-color: var(--fill-color);\n",
              "      border-right-color: var(--fill-color);\n",
              "    }\n",
              "    40% {\n",
              "      border-color: transparent;\n",
              "      border-right-color: var(--fill-color);\n",
              "      border-top-color: var(--fill-color);\n",
              "    }\n",
              "    60% {\n",
              "      border-color: transparent;\n",
              "      border-right-color: var(--fill-color);\n",
              "    }\n",
              "    80% {\n",
              "      border-color: transparent;\n",
              "      border-right-color: var(--fill-color);\n",
              "      border-bottom-color: var(--fill-color);\n",
              "    }\n",
              "    90% {\n",
              "      border-color: transparent;\n",
              "      border-bottom-color: var(--fill-color);\n",
              "    }\n",
              "  }\n",
              "</style>\n",
              "\n",
              "      <script>\n",
              "        async function quickchart(key) {\n",
              "          const quickchartButtonEl =\n",
              "            document.querySelector('#' + key + ' button');\n",
              "          quickchartButtonEl.disabled = true;  // To prevent multiple clicks.\n",
              "          quickchartButtonEl.classList.add('colab-df-spinner');\n",
              "          try {\n",
              "            const charts = await google.colab.kernel.invokeFunction(\n",
              "                'suggestCharts', [key], {});\n",
              "          } catch (error) {\n",
              "            console.error('Error during call to suggestCharts:', error);\n",
              "          }\n",
              "          quickchartButtonEl.classList.remove('colab-df-spinner');\n",
              "          quickchartButtonEl.classList.add('colab-df-quickchart-complete');\n",
              "        }\n",
              "        (() => {\n",
              "          let quickchartButtonEl =\n",
              "            document.querySelector('#df-4c6f3403-81ae-499d-95c4-7ea5d99587eb button');\n",
              "          quickchartButtonEl.style.display =\n",
              "            google.colab.kernel.accessAllowed ? 'block' : 'none';\n",
              "        })();\n",
              "      </script>\n",
              "    </div>\n",
              "\n",
              "    </div>\n",
              "  </div>\n"
            ],
            "application/vnd.google.colaboratory.intrinsic+json": {
              "type": "dataframe",
              "variable_name": "df",
              "summary": "{\n  \"name\": \"df\",\n  \"rows\": 20000,\n  \"fields\": [\n    {\n      \"column\": \"Artist(s)\",\n      \"properties\": {\n        \"dtype\": \"string\",\n        \"num_unique_values\": 12568,\n        \"samples\": [\n          \"Macy Gray\",\n          \"Waxahatchee\",\n          \"Decco,Alex Clare,Friction\"\n        ],\n        \"semantic_type\": \"\",\n        \"description\": \"\"\n      }\n    },\n    {\n      \"column\": \"song\",\n      \"properties\": {\n        \"dtype\": \"string\",\n        \"num_unique_values\": 17681,\n        \"samples\": [\n          \"Hypo Full of Love The 12-Step Plan\",\n          \"The sex is good - rock\",\n          \"Thunder Road\"\n        ],\n        \"semantic_type\": \"\",\n        \"description\": \"\"\n      }\n    },\n    {\n      \"column\": \"text\",\n      \"properties\": {\n        \"dtype\": \"string\",\n        \"num_unique_values\": 19417,\n        \"samples\": [\n          \"[Verse 1] Mum and Dad and Denny saw the passing out parade at Puckapunyal It was a long march from cadets The Sixth Battalion was the next to tour, and it was me who drew the card We did Canungra and Shoalwater before we left  [Chorus] And Townsville lined the footpath as we marched down to the quay This clipping from the paper shows us young and strong and clean And there's me, in my slouch hat, with my SLR and greens God help me I was only nineteen  [Verse 2] From Vung Tau riding Chinooks to the dust at Nui Dat I'd been in and out of choppers now for months And we made our tents a home: VB, and pinups on the lockers And an Asian orange sunset through the scrub  [Chorus] And can you tell me, doctor, why I still can't get to sleep? And night time's just a jungle dark and a barking M16? And what's this rash that comes and goes? Can you tell me what it means? God help me I was only nineteen [Verse 3] A four-week operation when each step can mean your last one on two legs It was a war within yourself But you wouldn't let your mates down 'til they had you dusted off So you closed your eyes and thought about somethin' else  [Verse 4] And then someone yelled out \\\"Contact!\\\" and the bloke behind me swore We hooked in there for hours, then a God-almighty roar Frankie kicked a mine the day that mankind kicked the moon God help me He was going home in June  [Verse 5] And I can still see Frankie drinkin' tinnies in the Grand Hotel On a thirty-six hour rec leave in Vung Tau And I can still hear Frankie lying screaming in the jungle 'Til the morphine came and killed the bloody row  [Verse 6] And the ANZAC legends didn't mention mud and blood and tears And stories that my father told me never seemed quite real I caught some pieces in my back that I didn't even feel God help me I was only nineteen [Chorus] And can you tell me, doctor, why I still can't get to sleep? And why the Channel Seven chopper chills me to my feet? And what's this rash that comes and goes? Can you tell me what it means? God help me I was only nineteen\",\n          \"[Verse 1] Venus, stop the train For the brakeman lost his place Satellites were spinning in outer space They televised her feelings, while the light The light struck terror  [Chorus] I kept my distance because she fell in love with everyone Smoking grass and taking Christmas trees She fell in love with me I was polite to her A soft sadness had her much more than her loneliness  [Verse 2] Her father warmed the benches Vice president of southern branches He reached out to her when her mother slept He would never forget the light The light, the light striking terror [Chorus] I kept my distance because she fell in love with everyone Smoking grass and taking Christmas trees She fell in love with me I was polite to her A soft sadness had her much more than her loneliness  [Bridge] Satellites spinning Satellites spin Well, the light The light, the light The light, the light The light strikes terror The light strikes terror  [Chorus] I keep my distance because she falls in love with everyone Smoking grass and taking Christmas trees She falls in love with me I'm polite to her A soft sadness had her much more than her ugliness  [Chorus] I keep my distance because she falls in love with everyone Smoking grass and taking Christmas trees She falls in love with me I'm polite to her I reach my soft hand out to her I've known her for a very, very long time\",\n          \"I just really like your face... You don\\u2019t have to look so happy! I\\u2019m not really into love that you flaunt In some glittery font But if that\\u2019s what you want Make it snappy!  I just feel so out of place\\u2026 Well, except for when you\\u2019re near me When you\\u2019re gone, I\\u2019m like a plant with no root Or a song that\\u2019s on mute- Don\\u2019t you dare call it cute! You should fear me!  And if the world was perfect You would\\u2019ve never invaded my space But since the world\\u2019s obsessed with saying \\u201csike\\\" Now I really like your face\"\n        ],\n        \"semantic_type\": \"\",\n        \"description\": \"\"\n      }\n    },\n    {\n      \"column\": \"emotion\",\n      \"properties\": {\n        \"dtype\": \"category\",\n        \"num_unique_values\": 6,\n        \"samples\": [\n          \"anger\",\n          \"joy\",\n          \"surprise\"\n        ],\n        \"semantic_type\": \"\",\n        \"description\": \"\"\n      }\n    },\n    {\n      \"column\": \"Length\",\n      \"properties\": {\n        \"dtype\": \"category\",\n        \"num_unique_values\": 578,\n        \"samples\": [\n          \"01:35\",\n          \"14:01\",\n          \"00:57\"\n        ],\n        \"semantic_type\": \"\",\n        \"description\": \"\"\n      }\n    },\n    {\n      \"column\": \"Tempo\",\n      \"properties\": {\n        \"dtype\": \"number\",\n        \"std\": 29,\n        \"min\": 33,\n        \"max\": 200,\n        \"num_unique_values\": 155,\n        \"samples\": [\n          112,\n          188,\n          123\n        ],\n        \"semantic_type\": \"\",\n        \"description\": \"\"\n      }\n    },\n    {\n      \"column\": \"Album\",\n      \"properties\": {\n        \"dtype\": \"string\",\n        \"num_unique_values\": 16327,\n        \"samples\": [\n          \"Why Her Not Me - EP\",\n          \"END OF THE EARTH\",\n          \"Set The World On Fire\"\n        ],\n        \"semantic_type\": \"\",\n        \"description\": \"\"\n      }\n    },\n    {\n      \"column\": \"Genre\",\n      \"properties\": {\n        \"dtype\": \"category\",\n        \"num_unique_values\": 1596,\n        \"samples\": [\n          \"trance,electronic,house\",\n          \"indie rock,lo-fi,psychedelic rock\",\n          \"swing,jazz,pop\"\n        ],\n        \"semantic_type\": \"\",\n        \"description\": \"\"\n      }\n    },\n    {\n      \"column\": \"Release Date\",\n      \"properties\": {\n        \"dtype\": \"category\",\n        \"num_unique_values\": 6140,\n        \"samples\": [\n          \"7th April 2008\",\n          \"5th June 1982\",\n          \"26th July 1973\"\n        ],\n        \"semantic_type\": \"\",\n        \"description\": \"\"\n      }\n    },\n    {\n      \"column\": \"Explicit\",\n      \"properties\": {\n        \"dtype\": \"category\",\n        \"num_unique_values\": 2,\n        \"samples\": [\n          \"Yes\",\n          \"No\"\n        ],\n        \"semantic_type\": \"\",\n        \"description\": \"\"\n      }\n    },\n    {\n      \"column\": \"Energy\",\n      \"properties\": {\n        \"dtype\": \"number\",\n        \"std\": 0.22288148699614202,\n        \"min\": 0.0,\n        \"max\": 1.0,\n        \"num_unique_values\": 101,\n        \"samples\": [\n          0.49,\n          0.59\n        ],\n        \"semantic_type\": \"\",\n        \"description\": \"\"\n      }\n    },\n    {\n      \"column\": \"Popularity\",\n      \"properties\": {\n        \"dtype\": \"number\",\n        \"std\": 0.18129216684260674,\n        \"min\": 0.0,\n        \"max\": 0.97,\n        \"num_unique_values\": 95,\n        \"samples\": [\n          0.7,\n          0.28\n        ],\n        \"semantic_type\": \"\",\n        \"description\": \"\"\n      }\n    },\n    {\n      \"column\": \"Danceability\",\n      \"properties\": {\n        \"dtype\": \"number\",\n        \"std\": 0.1751756747371086,\n        \"min\": 0.06,\n        \"max\": 0.98,\n        \"num_unique_values\": 93,\n        \"samples\": [\n          0.61,\n          0.44\n        ],\n        \"semantic_type\": \"\",\n        \"description\": \"\"\n      }\n    },\n    {\n      \"column\": \"Positiveness\",\n      \"properties\": {\n        \"dtype\": \"number\",\n        \"std\": 0.2419437312567817,\n        \"min\": 0.0,\n        \"max\": 0.99,\n        \"num_unique_values\": 100,\n        \"samples\": [\n          0.73,\n          0.95\n        ],\n        \"semantic_type\": \"\",\n        \"description\": \"\"\n      }\n    },\n    {\n      \"column\": \"Liveness\",\n      \"properties\": {\n        \"dtype\": \"number\",\n        \"std\": 0.16302686278002715,\n        \"min\": 0.01,\n        \"max\": 1.0,\n        \"num_unique_values\": 100,\n        \"samples\": [\n          0.72,\n          0.28\n        ],\n        \"semantic_type\": \"\",\n        \"description\": \"\"\n      }\n    }\n  ]\n}"
            }
          },
          "metadata": {},
          "execution_count": 102
        }
      ]
    },
    {
      "cell_type": "code",
      "source": [
        "def ingest_music_data_from_dataframe(db, df):\n",
        "    print(f\"Starting data ingestion for {len(df)} songs...\")\n",
        "    cnt = 0\n",
        "    with db.session() as session:\n",
        "        for idx, row in df.iterrows():\n",
        "            try:\n",
        "                song_id = str(idx)\n",
        "                song_title = row['song']\n",
        "                lyrics = str(row['text'])\n",
        "                emotion = row['emotion']\n",
        "                time_length = row['Length']\n",
        "                album_name = row['Album']\n",
        "                genre_name = row['Genre']\n",
        "                energy = row['Energy']\n",
        "                popularity = row['Popularity']\n",
        "                danceability = row['Danceability']\n",
        "                positiveness = row['Positiveness']\n",
        "\n",
        "                # Create/Merge Song\n",
        "                song_props = {\n",
        "                    \"id\": song_id,\n",
        "                    \"title\": song_title,\n",
        "                    \"lyrics\": lyrics, # Store original lyrics\n",
        "                    \"time_length\": time_length,\n",
        "                    \"energy\": float(energy) if pd.notna(energy) else None,\n",
        "                    \"popularity\": float(popularity) if pd.notna(popularity) else None,\n",
        "                    \"danceability\": float(danceability) if pd.notna(danceability) else None,\n",
        "                    \"positiveness\": float(positiveness) if pd.notna(positiveness) else None,\n",
        "                }\n",
        "\n",
        "                # Artists - handle multiple artists if separated by comma, etc.\n",
        "                artist_names = []\n",
        "                if pd.notna(row['Artist(s)']):\n",
        "                    artist_names = [name.strip() for name in str(row['Artist(s)']).split(',')]\n",
        "\n",
        "                for artist_name in artist_names:\n",
        "                    if artist_name: # Ensure not empty string\n",
        "                        session.run(\"\"\"\n",
        "                            MERGE (ar:Artist {name: $artist_name})\n",
        "                            WITH ar\n",
        "                            MATCH (s:Song {id: $song_id})\n",
        "                            MERGE (ar)-[:PERFORMED]->(s)\n",
        "                        \"\"\", artist_name=artist_name, song_id=song_id)\n",
        "\n",
        "                # Album\n",
        "                if pd.notna(album_name) and album_name.strip():\n",
        "                    session.run(\"\"\"\n",
        "                        MERGE (al:Album {name: $album_name})\n",
        "                        WITH al\n",
        "                        MATCH (s:Song {id: $song_id})\n",
        "                        MERGE (s)-[:APPEARS_ON]->(al)\n",
        "                    \"\"\", album_name=album_name.strip(), song_id=song_id)\n",
        "\n",
        "                # Genre\n",
        "                if pd.notna(genre_name) and genre_name.strip():\n",
        "                    session.run(\"\"\"\n",
        "                        MERGE (g:Genre {name: $genre_name})\n",
        "                        WITH g\n",
        "                        MATCH (s:Song {id: $song_id})\n",
        "                        MERGE (s)-[:HAS_GENRE]->(g)\n",
        "                    \"\"\", genre_name=genre_name.strip(), song_id=song_id)\n",
        "\n",
        "                # Emotion\n",
        "                if pd.notna(emotion) and emotion.strip():\n",
        "                    session.run(\"\"\"\n",
        "                        MERGE (e:Emotion {name: $emotion})\n",
        "                        WITH e\n",
        "                        MATCH (s:Song {id: $song_id})\n",
        "                        MERGE (s)-[:EVOKES]->(e)\n",
        "                    \"\"\", emotion=emotion.strip(), song_id=song_id)\n",
        "\n",
        "                if (cnt + 1) % 1000 == 0:\n",
        "                    print(f\"Processed {cnt + 1}/{len(df)} songs.\")\n",
        "\n",
        "                cnt+=1\n",
        "\n",
        "            except Exception as e:\n",
        "              print(\"Error encountered\", e)\n",
        "\n",
        "\n",
        "db = get_db()\n",
        "ingest_music_data_from_dataframe(db, df)"
      ],
      "metadata": {
        "id": "LkpMFY9xtcMN",
        "outputId": "a4b96914-89c2-4a74-dfca-7ba0c113ab66",
        "colab": {
          "base_uri": "https://localhost:8080/"
        }
      },
      "id": "LkpMFY9xtcMN",
      "execution_count": 118,
      "outputs": [
        {
          "output_type": "stream",
          "name": "stdout",
          "text": [
            "Starting data ingestion for 20000 songs...\n"
          ]
        },
        {
          "output_type": "stream",
          "name": "stderr",
          "text": [
            "<ipython-input-118-899d69538ae8>:4: DeprecationWarning: Using a driver after it has been closed is deprecated. Future versions of the driver will raise an error.\n",
            "  with db.session() as session:\n"
          ]
        },
        {
          "output_type": "stream",
          "name": "stdout",
          "text": [
            "Processed 1000/20000 songs.\n",
            "Processed 2000/20000 songs.\n",
            "Processed 3000/20000 songs.\n",
            "Processed 4000/20000 songs.\n",
            "Processed 5000/20000 songs.\n",
            "Processed 6000/20000 songs.\n",
            "Processed 7000/20000 songs.\n",
            "Processed 8000/20000 songs.\n",
            "Processed 9000/20000 songs.\n",
            "Processed 10000/20000 songs.\n",
            "Processed 11000/20000 songs.\n",
            "Processed 12000/20000 songs.\n",
            "Processed 13000/20000 songs.\n",
            "Processed 14000/20000 songs.\n",
            "Processed 15000/20000 songs.\n",
            "Processed 16000/20000 songs.\n",
            "Processed 17000/20000 songs.\n",
            "Processed 18000/20000 songs.\n",
            "Processed 19000/20000 songs.\n",
            "Processed 20000/20000 songs.\n"
          ]
        }
      ]
    },
    {
      "cell_type": "markdown",
      "id": "4c9f89aa",
      "metadata": {
        "id": "4c9f89aa"
      },
      "source": [
        "## **Retrieval**"
      ]
    },
    {
      "cell_type": "markdown",
      "id": "d2b91b56",
      "metadata": {
        "id": "d2b91b56"
      },
      "source": [
        "Some text"
      ]
    },
    {
      "cell_type": "code",
      "execution_count": null,
      "id": "26b8b179",
      "metadata": {
        "id": "26b8b179"
      },
      "outputs": [],
      "source": [
        "# Some code"
      ]
    },
    {
      "cell_type": "markdown",
      "id": "877dff3e",
      "metadata": {
        "id": "877dff3e"
      },
      "source": [
        "## **Generation**"
      ]
    },
    {
      "cell_type": "markdown",
      "id": "f6c1d050",
      "metadata": {
        "id": "f6c1d050"
      },
      "source": [
        "Some text"
      ]
    },
    {
      "cell_type": "code",
      "execution_count": null,
      "id": "4b0fadf3",
      "metadata": {
        "id": "4b0fadf3"
      },
      "outputs": [],
      "source": [
        "# Some code"
      ]
    },
    {
      "cell_type": "markdown",
      "id": "e471a74b",
      "metadata": {
        "id": "e471a74b"
      },
      "source": [
        "## **Challenges & Future Development**"
      ]
    },
    {
      "cell_type": "markdown",
      "id": "42831c2c",
      "metadata": {
        "id": "42831c2c"
      },
      "source": [
        "Some text"
      ]
    },
    {
      "cell_type": "code",
      "execution_count": null,
      "id": "72e1aff2",
      "metadata": {
        "id": "72e1aff2"
      },
      "outputs": [],
      "source": [
        "# Some code"
      ]
    }
  ],
  "metadata": {
    "kernelspec": {
      "display_name": "KrakenV2",
      "language": "python",
      "name": "python3"
    },
    "language_info": {
      "name": "python",
      "version": "3.10.13"
    },
    "colab": {
      "provenance": []
    }
  },
  "nbformat": 4,
  "nbformat_minor": 5
}